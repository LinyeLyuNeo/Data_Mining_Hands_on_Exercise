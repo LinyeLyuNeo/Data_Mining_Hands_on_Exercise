{
 "cells": [
  {
   "cell_type": "markdown",
   "metadata": {},
   "source": [
    "# Recommending movies using collaborative filtering"
   ]
  },
  {
   "cell_type": "code",
   "execution_count": 3,
   "metadata": {
    "ExecuteTime": {
     "end_time": "2020-03-24T19:41:48.346620Z",
     "start_time": "2020-03-24T19:41:47.795318Z"
    }
   },
   "outputs": [],
   "source": [
    "import pandas as pd\n",
    "import numpy as np\n",
    "import warnings\n",
    "warnings.filterwarnings('ignore')"
   ]
  },
  {
   "cell_type": "markdown",
   "metadata": {},
   "source": [
    "## Data"
   ]
  },
  {
   "cell_type": "markdown",
   "metadata": {},
   "source": [
    "To build a recommender system, we need data to learn from. Specifically, we need the a dataset of **ratings** that different **users** assigend to different **items**, i.e., the movies. Let's start by loading the data and look at the first few rows."
   ]
  },
  {
   "cell_type": "code",
   "execution_count": 4,
   "metadata": {
    "ExecuteTime": {
     "end_time": "2020-03-24T19:41:49.210677Z",
     "start_time": "2020-03-24T19:41:49.138507Z"
    },
    "scrolled": true
   },
   "outputs": [
    {
     "data": {
      "text/html": [
       "<div>\n",
       "<style scoped>\n",
       "    .dataframe tbody tr th:only-of-type {\n",
       "        vertical-align: middle;\n",
       "    }\n",
       "\n",
       "    .dataframe tbody tr th {\n",
       "        vertical-align: top;\n",
       "    }\n",
       "\n",
       "    .dataframe thead th {\n",
       "        text-align: right;\n",
       "    }\n",
       "</style>\n",
       "<table border=\"1\" class=\"dataframe\">\n",
       "  <thead>\n",
       "    <tr style=\"text-align: right;\">\n",
       "      <th></th>\n",
       "      <th>user_id</th>\n",
       "      <th>item_id</th>\n",
       "      <th>rating</th>\n",
       "    </tr>\n",
       "  </thead>\n",
       "  <tbody>\n",
       "    <tr>\n",
       "      <th>0</th>\n",
       "      <td>196</td>\n",
       "      <td>242</td>\n",
       "      <td>3</td>\n",
       "    </tr>\n",
       "    <tr>\n",
       "      <th>1</th>\n",
       "      <td>186</td>\n",
       "      <td>302</td>\n",
       "      <td>3</td>\n",
       "    </tr>\n",
       "    <tr>\n",
       "      <th>2</th>\n",
       "      <td>22</td>\n",
       "      <td>377</td>\n",
       "      <td>1</td>\n",
       "    </tr>\n",
       "    <tr>\n",
       "      <th>3</th>\n",
       "      <td>244</td>\n",
       "      <td>51</td>\n",
       "      <td>2</td>\n",
       "    </tr>\n",
       "    <tr>\n",
       "      <th>4</th>\n",
       "      <td>166</td>\n",
       "      <td>346</td>\n",
       "      <td>1</td>\n",
       "    </tr>\n",
       "  </tbody>\n",
       "</table>\n",
       "</div>"
      ],
      "text/plain": [
       "   user_id  item_id  rating\n",
       "0      196      242       3\n",
       "1      186      302       3\n",
       "2       22      377       1\n",
       "3      244       51       2\n",
       "4      166      346       1"
      ]
     },
     "execution_count": 4,
     "metadata": {},
     "output_type": "execute_result"
    }
   ],
   "source": [
    "ratings = pd.read_csv(\n",
    "    '../datasets/u.data',\n",
    "    delimiter='\\t',\n",
    "    header=None,\n",
    "    names=['user_id', 'item_id', 'rating', 'timestamp']\n",
    ") \n",
    "\n",
    "# We don't need the column timestamp, so we drop it\n",
    "ratings.drop('timestamp', axis=1 , inplace=True)\n",
    "\n",
    "ratings.head()"
   ]
  },
  {
   "cell_type": "markdown",
   "metadata": {},
   "source": [
    "## Exercise 1.1: Similarity-based"
   ]
  },
  {
   "cell_type": "markdown",
   "metadata": {},
   "source": [
    "**Question 1:** Implement the similarity-based algorithm given by the formulas of exercise 1.1"
   ]
  },
  {
   "cell_type": "code",
   "execution_count": 5,
   "metadata": {},
   "outputs": [
    {
     "name": "stdout",
     "output_type": "stream",
     "text": [
      "ratings_ui: users, then movies\n"
     ]
    },
    {
     "data": {
      "text/html": [
       "<div>\n",
       "<style scoped>\n",
       "    .dataframe tbody tr th:only-of-type {\n",
       "        vertical-align: middle;\n",
       "    }\n",
       "\n",
       "    .dataframe tbody tr th {\n",
       "        vertical-align: top;\n",
       "    }\n",
       "\n",
       "    .dataframe thead th {\n",
       "        text-align: right;\n",
       "    }\n",
       "</style>\n",
       "<table border=\"1\" class=\"dataframe\">\n",
       "  <thead>\n",
       "    <tr style=\"text-align: right;\">\n",
       "      <th></th>\n",
       "      <th></th>\n",
       "      <th>rating</th>\n",
       "    </tr>\n",
       "    <tr>\n",
       "      <th>user_id</th>\n",
       "      <th>item_id</th>\n",
       "      <th></th>\n",
       "    </tr>\n",
       "  </thead>\n",
       "  <tbody>\n",
       "    <tr>\n",
       "      <th>196</th>\n",
       "      <th>242</th>\n",
       "      <td>3</td>\n",
       "    </tr>\n",
       "    <tr>\n",
       "      <th>186</th>\n",
       "      <th>302</th>\n",
       "      <td>3</td>\n",
       "    </tr>\n",
       "    <tr>\n",
       "      <th>22</th>\n",
       "      <th>377</th>\n",
       "      <td>1</td>\n",
       "    </tr>\n",
       "    <tr>\n",
       "      <th>244</th>\n",
       "      <th>51</th>\n",
       "      <td>2</td>\n",
       "    </tr>\n",
       "    <tr>\n",
       "      <th>166</th>\n",
       "      <th>346</th>\n",
       "      <td>1</td>\n",
       "    </tr>\n",
       "  </tbody>\n",
       "</table>\n",
       "</div>"
      ],
      "text/plain": [
       "                 rating\n",
       "user_id item_id        \n",
       "196     242           3\n",
       "186     302           3\n",
       "22      377           1\n",
       "244     51            2\n",
       "166     346           1"
      ]
     },
     "metadata": {},
     "output_type": "display_data"
    },
    {
     "name": "stdout",
     "output_type": "stream",
     "text": [
      "ratings_iu: movies, then users\n"
     ]
    },
    {
     "data": {
      "text/html": [
       "<div>\n",
       "<style scoped>\n",
       "    .dataframe tbody tr th:only-of-type {\n",
       "        vertical-align: middle;\n",
       "    }\n",
       "\n",
       "    .dataframe tbody tr th {\n",
       "        vertical-align: top;\n",
       "    }\n",
       "\n",
       "    .dataframe thead th {\n",
       "        text-align: right;\n",
       "    }\n",
       "</style>\n",
       "<table border=\"1\" class=\"dataframe\">\n",
       "  <thead>\n",
       "    <tr style=\"text-align: right;\">\n",
       "      <th></th>\n",
       "      <th></th>\n",
       "      <th>rating</th>\n",
       "    </tr>\n",
       "    <tr>\n",
       "      <th>item_id</th>\n",
       "      <th>user_id</th>\n",
       "      <th></th>\n",
       "    </tr>\n",
       "  </thead>\n",
       "  <tbody>\n",
       "    <tr>\n",
       "      <th>242</th>\n",
       "      <th>196</th>\n",
       "      <td>3</td>\n",
       "    </tr>\n",
       "    <tr>\n",
       "      <th>302</th>\n",
       "      <th>186</th>\n",
       "      <td>3</td>\n",
       "    </tr>\n",
       "    <tr>\n",
       "      <th>377</th>\n",
       "      <th>22</th>\n",
       "      <td>1</td>\n",
       "    </tr>\n",
       "    <tr>\n",
       "      <th>51</th>\n",
       "      <th>244</th>\n",
       "      <td>2</td>\n",
       "    </tr>\n",
       "    <tr>\n",
       "      <th>346</th>\n",
       "      <th>166</th>\n",
       "      <td>1</td>\n",
       "    </tr>\n",
       "  </tbody>\n",
       "</table>\n",
       "</div>"
      ],
      "text/plain": [
       "                 rating\n",
       "item_id user_id        \n",
       "242     196           3\n",
       "302     186           3\n",
       "377     22            1\n",
       "51      244           2\n",
       "346     166           1"
      ]
     },
     "metadata": {},
     "output_type": "display_data"
    },
    {
     "name": "stdout",
     "output_type": "stream",
     "text": [
      "ratings_iu: part of the index for movie 242\n"
     ]
    },
    {
     "data": {
      "text/html": [
       "<div>\n",
       "<style scoped>\n",
       "    .dataframe tbody tr th:only-of-type {\n",
       "        vertical-align: middle;\n",
       "    }\n",
       "\n",
       "    .dataframe tbody tr th {\n",
       "        vertical-align: top;\n",
       "    }\n",
       "\n",
       "    .dataframe thead th {\n",
       "        text-align: right;\n",
       "    }\n",
       "</style>\n",
       "<table border=\"1\" class=\"dataframe\">\n",
       "  <thead>\n",
       "    <tr style=\"text-align: right;\">\n",
       "      <th></th>\n",
       "      <th>rating</th>\n",
       "    </tr>\n",
       "    <tr>\n",
       "      <th>user_id</th>\n",
       "      <th></th>\n",
       "    </tr>\n",
       "  </thead>\n",
       "  <tbody>\n",
       "    <tr>\n",
       "      <th>196</th>\n",
       "      <td>3</td>\n",
       "    </tr>\n",
       "    <tr>\n",
       "      <th>63</th>\n",
       "      <td>3</td>\n",
       "    </tr>\n",
       "    <tr>\n",
       "      <th>226</th>\n",
       "      <td>5</td>\n",
       "    </tr>\n",
       "    <tr>\n",
       "      <th>154</th>\n",
       "      <td>3</td>\n",
       "    </tr>\n",
       "    <tr>\n",
       "      <th>306</th>\n",
       "      <td>5</td>\n",
       "    </tr>\n",
       "  </tbody>\n",
       "</table>\n",
       "</div>"
      ],
      "text/plain": [
       "         rating\n",
       "user_id        \n",
       "196           3\n",
       "63            3\n",
       "226           5\n",
       "154           3\n",
       "306           5"
      ]
     },
     "metadata": {},
     "output_type": "display_data"
    }
   ],
   "source": [
    "user_means = ratings.groupby('user_id')['rating'].mean()\n",
    "\n",
    "# Creates a new index data structures\n",
    "ratings_ui = ratings.set_index(['user_id', 'item_id'])\n",
    "ratings_iu = ratings.set_index(['item_id', 'user_id'])\n",
    "\n",
    "print('ratings_ui: users, then movies')\n",
    "display(ratings_ui.head())\n",
    "print('ratings_iu: movies, then users')\n",
    "display(ratings_iu.head())\n",
    "\n",
    "print('ratings_iu: part of the index for movie 242')\n",
    "display(ratings_iu.loc[242].head())"
   ]
  },
  {
   "cell_type": "code",
   "execution_count": 6,
   "metadata": {},
   "outputs": [],
   "source": [
    "def similarity(u, v):\n",
    "    \n",
    "    u_ratings = ratings_ui.loc[u]\n",
    "    v_ratings = ratings_ui.loc[v]\n",
    "    \n",
    "    Ru = user_means.loc[u]\n",
    "    Rv = user_means.loc[v]\n",
    "    \n",
    "    common_movies = pd.merge(u_ratings, v_ratings, \n",
    "                             left_index = True, right_index = True, \n",
    "                             suffixes=('_u', '_v'),\n",
    "                             how='inner')\n",
    "    \n",
    "    if (common_movies.empty):\n",
    "        return 0.0\n",
    "    \n",
    "    common_movies['rating_u'] -= Ru\n",
    "    common_movies['rating_v'] -= Rv\n",
    "    \n",
    "    common_movies['RujRvj'] = common_movies['rating_u'] * common_movies['rating_v'] \n",
    "    common_movies['RujRuj'] = common_movies['rating_u'] * common_movies['rating_u'] \n",
    "    common_movies['RvjRvj'] = common_movies['rating_v'] * common_movies['rating_v'] \n",
    "    \n",
    "    denom1 = common_movies['RujRuj'].sum()\n",
    "    denom2 = common_movies['RvjRvj'].sum()\n",
    "    \n",
    "    if denom1 == 0 or denom2 == 0:\n",
    "        return 0.0\n",
    "\n",
    "    return np.round(common_movies['RujRvj'].sum() / np.sqrt(denom1 * denom2),4)"
   ]
  },
  {
   "cell_type": "markdown",
   "metadata": {},
   "source": [
    "**Question 2:** Let's now use the similarity function to find similar users. Given a user `u`, find the\n",
    "- user that is the most similar (positively correlated) to `u`;\n",
    "- user that is the least similar (negatively correlated) to `u`;\n",
    "- user that is weakly correlated to `u`.\n",
    "\n",
    "What can you say about the influence that these three users will have on the ratings of user `u`?"
   ]
  },
  {
   "cell_type": "code",
   "execution_count": 7,
   "metadata": {},
   "outputs": [
    {
     "name": "stdout",
     "output_type": "stream",
     "text": [
      "User positively correlated: user 155 with similarity = 1.0\n",
      "User negatively correlated: user 88 with similarity = -1.0\n",
      "User weakly correlated: user 24 with similarity = -0.0001\n"
     ]
    }
   ],
   "source": [
    "u = 1\n",
    "list_users = ratings['user_id'].unique()\n",
    "list_users = list_users[np.where(list_users != u)[0]]\n",
    "list_similarities = np.array([similarity(1, v) for v in list_users])\n",
    "user_poscorr = list_users[np.argmax(list_similarities)]\n",
    "user_negcorr = list_users[np.argmin(list_similarities)]\n",
    "user_uncorr = list_users[np.argmin(np.abs(list_similarities))]\n",
    "\n",
    "print('User positively correlated: user', user_poscorr,'with similarity =', similarity(u, user_poscorr))\n",
    "print('User negatively correlated: user', user_negcorr,'with similarity =', similarity(u, user_negcorr))\n",
    "print('User weakly correlated: user', user_uncorr,'with similarity =', similarity(u, user_uncorr))"
   ]
  },
  {
   "cell_type": "markdown",
   "metadata": {
    "ExecuteTime": {
     "end_time": "2020-03-24T20:25:28.779063Z",
     "start_time": "2020-03-24T20:25:28.774304Z"
    }
   },
   "source": [
    "**Question 3:** Use your implementation to predict an unknown rating of the dataset. What is the run time of your implementation? Can you think of ways to speed it up?"
   ]
  },
  {
   "cell_type": "code",
   "execution_count": 8,
   "metadata": {
    "ExecuteTime": {
     "end_time": "2020-03-24T19:54:12.638063Z",
     "start_time": "2020-03-24T19:54:11.923327Z"
    }
   },
   "outputs": [],
   "source": [
    "def predict(user_id, movie_id):\n",
    "    # Find all users who rated the given movie\n",
    "    co_raters = ratings_iu.loc[movie_id].copy()\n",
    "    \n",
    "    # Compute similarity with each co-rater for the movie\n",
    "    # `v.name` retrieves the index value, i.e., the user id of v\n",
    "    co_raters['similarity'] = co_raters.apply(axis=1, func=lambda v: similarity(user_id, v.name)) \n",
    "    co_raters['rating'] -= user_means[co_raters.index]\n",
    "    \n",
    "    alpha = co_raters['similarity'].abs().sum()\n",
    "    \n",
    "    prediction = (co_raters['similarity'] * co_raters['rating']).sum()\n",
    "    \n",
    "    return user_means[user_id] + prediction / alpha"
   ]
  },
  {
   "cell_type": "markdown",
   "metadata": {},
   "source": [
    "Let's use this function to predict the rating of the movie Outbreak (which has id 54) for user 1:"
   ]
  },
  {
   "cell_type": "code",
   "execution_count": 9,
   "metadata": {},
   "outputs": [
    {
     "name": "stdout",
     "output_type": "stream",
     "text": [
      "Wall time: 366 ms\n"
     ]
    },
    {
     "data": {
      "text/plain": [
       "3.355353324648658"
      ]
     },
     "execution_count": 9,
     "metadata": {},
     "output_type": "execute_result"
    }
   ],
   "source": [
    "user = 1\n",
    "movie_to_predict = 54\n",
    "%time predict(user, movie_to_predict)"
   ]
  },
  {
   "cell_type": "markdown",
   "metadata": {},
   "source": [
    "## Exercise 1.2: Model-based"
   ]
  },
  {
   "cell_type": "markdown",
   "metadata": {},
   "source": [
    "To make our life easier, we will now use the [Surprise](https://surprise.readthedocs.io) Python package which implements a variety of collaborative filtering algorithms. To install this package, simply run `pip install surprise` or use conda if you use Windows: open anaconda navigator, go to environments, click on the arrow next to the base (root) environment, click \"open terminal\" and run the following command: `conda install -y -c conda-forge scikit-surprise`."
   ]
  },
  {
   "cell_type": "code",
   "execution_count": 10,
   "metadata": {
    "ExecuteTime": {
     "end_time": "2020-03-24T20:17:40.110191Z",
     "start_time": "2020-03-24T20:17:39.972036Z"
    }
   },
   "outputs": [],
   "source": [
    "import surprise"
   ]
  },
  {
   "cell_type": "markdown",
   "metadata": {},
   "source": [
    "First, we need to convert our dataset to a format where the rows represent users and the columns represent the movies. The value at each cell is the rating for corresponding user and movie, or zero if the user did not rate the movie."
   ]
  },
  {
   "cell_type": "code",
   "execution_count": 11,
   "metadata": {
    "ExecuteTime": {
     "end_time": "2020-03-24T20:22:34.526564Z",
     "start_time": "2020-03-24T20:22:34.295657Z"
    }
   },
   "outputs": [],
   "source": [
    "from surprise.dataset import Dataset, Reader\n",
    "dataset = Dataset.load_from_df(ratings, reader=Reader(rating_scale=(1, 5)))\n",
    "X = dataset.build_full_trainset()"
   ]
  },
  {
   "cell_type": "markdown",
   "metadata": {},
   "source": [
    "**Question 4:** Now use the non-negative matrix factorization implementation of this package to predict the rating for a given user and movie.\n",
    "\n",
    "Hint: you'll need the [surprise.prediction_algorithms.matrix_factorization.NMF](https://surprise.readthedocs.io/en/stable/matrix_factorization.html#surprise.prediction_algorithms.matrix_factorization.NMF) class."
   ]
  },
  {
   "cell_type": "code",
   "execution_count": 12,
   "metadata": {
    "ExecuteTime": {
     "end_time": "2020-03-24T20:29:03.084232Z",
     "start_time": "2020-03-24T20:28:55.536552Z"
    }
   },
   "outputs": [],
   "source": [
    "from surprise.prediction_algorithms.matrix_factorization import NMF\n",
    "nmf = NMF().fit(X)"
   ]
  },
  {
   "cell_type": "code",
   "execution_count": 13,
   "metadata": {},
   "outputs": [
    {
     "name": "stdout",
     "output_type": "stream",
     "text": [
      "Wall time: 0 ns\n"
     ]
    },
    {
     "data": {
      "text/plain": [
       "Prediction(uid=1, iid=54, r_ui=None, est=3.2738816849453185, details={'was_impossible': False})"
      ]
     },
     "execution_count": 13,
     "metadata": {},
     "output_type": "execute_result"
    }
   ],
   "source": [
    "user = 1\n",
    "movie_to_predict = 54\n",
    "%time nmf.predict(user, movie_to_predict)"
   ]
  },
  {
   "cell_type": "markdown",
   "metadata": {},
   "source": [
    "**Question 5:** What is the effect of the number of latent factors? Is there an optimal number of factors?\n",
    "\n",
    "Hint: the [surprise.model_selection.search.GridSearchCV](https://surprise.readthedocs.io/en/stable/model_selection.html#surprise.model_selection.search.GridSearchCV) makes it easy to compare different parameter settings (note that GridSearchCV.fit expects a Dataset object instead of a Trainset object)"
   ]
  },
  {
   "cell_type": "code",
   "execution_count": 14,
   "metadata": {
    "ExecuteTime": {
     "end_time": "2020-03-24T21:05:52.161305Z",
     "start_time": "2020-03-24T21:05:51.790956Z"
    }
   },
   "outputs": [],
   "source": [
    "from surprise.model_selection import GridSearchCV\n",
    "param_grid = {\"n_factors\": [1, 2, 5, 10, 20, 50, 100, 200]}\n",
    "search = GridSearchCV(NMF, param_grid, cv=3, n_jobs=4)\n",
    "search.fit(dataset)"
   ]
  },
  {
   "cell_type": "code",
   "execution_count": 16,
   "metadata": {},
   "outputs": [
    {
     "data": {
      "image/png": "[encoded data removed]",
      "text/plain": [
       "<Figure size 432x288 with 1 Axes>"
      ]
     },
     "metadata": {
      "needs_background": "light"
     },
     "output_type": "display_data"
    }
   ],
   "source": [
    "import matplotlib.pyplot as plt\n",
    "plt.semilogx(param_grid[\"n_factors\"], search.cv_results['mean_test_rmse'])\n",
    "plt.xlabel(\"Number of latent factors\")\n",
    "plt.ylabel(\"Root mean squared error\")\n",
    "plt.show()"
   ]
  },
  {
   "cell_type": "code",
   "execution_count": null,
   "metadata": {},
   "outputs": [],
   "source": []
  }
 ],
 "metadata": {
  "kernelspec": {
   "display_name": "Python 3",
   "language": "python",
   "name": "python3"
  },
  "language_info": {
   "codemirror_mode": {
    "name": "ipython",
    "version": 3
   },
   "file_extension": ".py",
   "mimetype": "text/x-python",
   "name": "python",
   "nbconvert_exporter": "python",
   "pygments_lexer": "ipython3",
   "version": "3.8.8"
  },
  "toc": {
   "base_numbering": 1,
   "nav_menu": {},
   "number_sections": false,
   "sideBar": true,
   "skip_h1_title": true,
   "title_cell": "Table of Contents",
   "title_sidebar": "Contents",
   "toc_cell": false,
   "toc_position": {},
   "toc_section_display": true,
   "toc_window_display": true
  }
 },
 "nbformat": 4,
 "nbformat_minor": 4
}
